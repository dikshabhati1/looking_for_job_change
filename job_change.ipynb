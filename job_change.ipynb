{
  "nbformat": 4,
  "nbformat_minor": 0,
  "metadata": {
    "colab": {
      "name": "job-change.ipynb",
      "provenance": [],
      "collapsed_sections": [],
      "authorship_tag": "ABX9TyNI7BlEmt3pOVvpNt/0nuFu",
      "include_colab_link": true
    },
    "kernelspec": {
      "display_name": "Python 3",
      "name": "python3"
    }
  },
  "cells": [
    {
      "cell_type": "markdown",
      "metadata": {
        "id": "view-in-github",
        "colab_type": "text"
      },
      "source": [
        "<a href=\"https://colab.research.google.com/github/dikshabhati1/looking_for_job_change/blob/main/job_change.ipynb\" target=\"_parent\"><img src=\"https://colab.research.google.com/assets/colab-badge.svg\" alt=\"Open In Colab\"/></a>"
      ]
    },
    {
      "cell_type": "code",
      "metadata": {
        "colab": {
          "resources": {
            "http://localhost:8080/nbextensions/google.colab/files.js": {
              "data": "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",
              "ok": true,
              "headers": [
                [
                  "content-type",
                  "application/javascript"
                ]
              ],
              "status": 200,
              "status_text": ""
            }
          },
          "base_uri": "https://localhost:8080/",
          "height": 72
        },
        "id": "OAooFqHeUiNr",
        "outputId": "7b73a29f-607e-455a-8d28-917ea91f4a9c"
      },
      "source": [
        "from google.colab import files\r\n",
        "upload = files.upload()"
      ],
      "execution_count": null,
      "outputs": [
        {
          "output_type": "display_data",
          "data": {
            "text/html": [
              "\n",
              "     <input type=\"file\" id=\"files-d3ba9ba0-5474-4fd6-8167-dd13e719b30f\" name=\"files[]\" multiple disabled\n",
              "        style=\"border:none\" />\n",
              "     <output id=\"result-d3ba9ba0-5474-4fd6-8167-dd13e719b30f\">\n",
              "      Upload widget is only available when the cell has been executed in the\n",
              "      current browser session. Please rerun this cell to enable.\n",
              "      </output>\n",
              "      <script src=\"/nbextensions/google.colab/files.js\"></script> "
            ],
            "text/plain": [
              "<IPython.core.display.HTML object>"
            ]
          },
          "metadata": {
            "tags": []
          }
        },
        {
          "output_type": "stream",
          "text": [
            "Saving aug_train.csv to aug_train.csv\n"
          ],
          "name": "stdout"
        }
      ]
    },
    {
      "cell_type": "code",
      "metadata": {
        "id": "Do9T3Ao-8AWO"
      },
      "source": [
        "import pandas as pd\r\n",
        "import numpy as np\r\n",
        "import matplotlib.pyplot as plt\r\n",
        "import seaborn as sns\r\n",
        "import io\r\n",
        "from imblearn.over_sampling import SMOTE\r\n",
        "from sklearn.preprocessing import LabelEncoder\r\n",
        "from collections import Counter\r\n",
        "from sklearn.model_selection import train_test_split\r\n",
        "from xgboost import XGBClassifier\r\n",
        "from sklearn.model_selection import RandomizedSearchCV\r\n",
        "from sklearn.metrics import roc_auc_score, roc_curve, accuracy_score, confusion_matrix, log_loss, plot_roc_curve, auc, precision_recall_curve\r\n",
        "from xgboost import XGBClassifier\r\n",
        "from sklearn.preprocessing import StandardScaler"
      ],
      "execution_count": 52,
      "outputs": []
    },
    {
      "cell_type": "code",
      "metadata": {
        "id": "xK-_QM3N9tJ1"
      },
      "source": [
        "df = pd.read_csv(io.BytesIO(upload['aug_train.csv']))"
      ],
      "execution_count": 32,
      "outputs": []
    },
    {
      "cell_type": "code",
      "metadata": {
        "colab": {
          "base_uri": "https://localhost:8080/",
          "height": 258
        },
        "id": "hpI8N1aZ_5Dd",
        "outputId": "3263958a-8ba1-4ed7-de64-f8011df10264"
      },
      "source": [
        "df.head()"
      ],
      "execution_count": 33,
      "outputs": [
        {
          "output_type": "execute_result",
          "data": {
            "text/html": [
              "<div>\n",
              "<style scoped>\n",
              "    .dataframe tbody tr th:only-of-type {\n",
              "        vertical-align: middle;\n",
              "    }\n",
              "\n",
              "    .dataframe tbody tr th {\n",
              "        vertical-align: top;\n",
              "    }\n",
              "\n",
              "    .dataframe thead th {\n",
              "        text-align: right;\n",
              "    }\n",
              "</style>\n",
              "<table border=\"1\" class=\"dataframe\">\n",
              "  <thead>\n",
              "    <tr style=\"text-align: right;\">\n",
              "      <th></th>\n",
              "      <th>enrollee_id</th>\n",
              "      <th>city</th>\n",
              "      <th>city_development_index</th>\n",
              "      <th>gender</th>\n",
              "      <th>relevent_experience</th>\n",
              "      <th>enrolled_university</th>\n",
              "      <th>education_level</th>\n",
              "      <th>major_discipline</th>\n",
              "      <th>experience</th>\n",
              "      <th>company_size</th>\n",
              "      <th>company_type</th>\n",
              "      <th>last_new_job</th>\n",
              "      <th>training_hours</th>\n",
              "      <th>target</th>\n",
              "    </tr>\n",
              "  </thead>\n",
              "  <tbody>\n",
              "    <tr>\n",
              "      <th>0</th>\n",
              "      <td>8949</td>\n",
              "      <td>city_103</td>\n",
              "      <td>0.920</td>\n",
              "      <td>Male</td>\n",
              "      <td>Has relevent experience</td>\n",
              "      <td>no_enrollment</td>\n",
              "      <td>Graduate</td>\n",
              "      <td>STEM</td>\n",
              "      <td>&gt;20</td>\n",
              "      <td>NaN</td>\n",
              "      <td>NaN</td>\n",
              "      <td>1</td>\n",
              "      <td>36</td>\n",
              "      <td>1.0</td>\n",
              "    </tr>\n",
              "    <tr>\n",
              "      <th>1</th>\n",
              "      <td>29725</td>\n",
              "      <td>city_40</td>\n",
              "      <td>0.776</td>\n",
              "      <td>Male</td>\n",
              "      <td>No relevent experience</td>\n",
              "      <td>no_enrollment</td>\n",
              "      <td>Graduate</td>\n",
              "      <td>STEM</td>\n",
              "      <td>15</td>\n",
              "      <td>50-99</td>\n",
              "      <td>Pvt Ltd</td>\n",
              "      <td>&gt;4</td>\n",
              "      <td>47</td>\n",
              "      <td>0.0</td>\n",
              "    </tr>\n",
              "    <tr>\n",
              "      <th>2</th>\n",
              "      <td>11561</td>\n",
              "      <td>city_21</td>\n",
              "      <td>0.624</td>\n",
              "      <td>NaN</td>\n",
              "      <td>No relevent experience</td>\n",
              "      <td>Full time course</td>\n",
              "      <td>Graduate</td>\n",
              "      <td>STEM</td>\n",
              "      <td>5</td>\n",
              "      <td>NaN</td>\n",
              "      <td>NaN</td>\n",
              "      <td>never</td>\n",
              "      <td>83</td>\n",
              "      <td>0.0</td>\n",
              "    </tr>\n",
              "    <tr>\n",
              "      <th>3</th>\n",
              "      <td>33241</td>\n",
              "      <td>city_115</td>\n",
              "      <td>0.789</td>\n",
              "      <td>NaN</td>\n",
              "      <td>No relevent experience</td>\n",
              "      <td>NaN</td>\n",
              "      <td>Graduate</td>\n",
              "      <td>Business Degree</td>\n",
              "      <td>&lt;1</td>\n",
              "      <td>NaN</td>\n",
              "      <td>Pvt Ltd</td>\n",
              "      <td>never</td>\n",
              "      <td>52</td>\n",
              "      <td>1.0</td>\n",
              "    </tr>\n",
              "    <tr>\n",
              "      <th>4</th>\n",
              "      <td>666</td>\n",
              "      <td>city_162</td>\n",
              "      <td>0.767</td>\n",
              "      <td>Male</td>\n",
              "      <td>Has relevent experience</td>\n",
              "      <td>no_enrollment</td>\n",
              "      <td>Masters</td>\n",
              "      <td>STEM</td>\n",
              "      <td>&gt;20</td>\n",
              "      <td>50-99</td>\n",
              "      <td>Funded Startup</td>\n",
              "      <td>4</td>\n",
              "      <td>8</td>\n",
              "      <td>0.0</td>\n",
              "    </tr>\n",
              "  </tbody>\n",
              "</table>\n",
              "</div>"
            ],
            "text/plain": [
              "   enrollee_id      city  ...  training_hours target\n",
              "0         8949  city_103  ...              36    1.0\n",
              "1        29725   city_40  ...              47    0.0\n",
              "2        11561   city_21  ...              83    0.0\n",
              "3        33241  city_115  ...              52    1.0\n",
              "4          666  city_162  ...               8    0.0\n",
              "\n",
              "[5 rows x 14 columns]"
            ]
          },
          "metadata": {
            "tags": []
          },
          "execution_count": 33
        }
      ]
    },
    {
      "cell_type": "code",
      "metadata": {
        "colab": {
          "base_uri": "https://localhost:8080/"
        },
        "id": "Id-IAKN1_7Iy",
        "outputId": "05825240-f4a1-4ed4-acbc-2779d6f0eb11"
      },
      "source": [
        "df.columns"
      ],
      "execution_count": 34,
      "outputs": [
        {
          "output_type": "execute_result",
          "data": {
            "text/plain": [
              "Index(['enrollee_id', 'city', 'city_development_index', 'gender',\n",
              "       'relevent_experience', 'enrolled_university', 'education_level',\n",
              "       'major_discipline', 'experience', 'company_size', 'company_type',\n",
              "       'last_new_job', 'training_hours', 'target'],\n",
              "      dtype='object')"
            ]
          },
          "metadata": {
            "tags": []
          },
          "execution_count": 34
        }
      ]
    },
    {
      "cell_type": "code",
      "metadata": {
        "colab": {
          "base_uri": "https://localhost:8080/"
        },
        "id": "MAm5OU4394rX",
        "outputId": "f19595ff-3b16-45fa-dfc3-f19b2e86f9db"
      },
      "source": [
        "# shape\r\n",
        "print('Shape of train is {}'.format(df.shape))"
      ],
      "execution_count": 35,
      "outputs": [
        {
          "output_type": "stream",
          "text": [
            "Shape of train is (19158, 14)\n"
          ],
          "name": "stdout"
        }
      ]
    },
    {
      "cell_type": "code",
      "metadata": {
        "colab": {
          "base_uri": "https://localhost:8080/"
        },
        "id": "9VX46L3Q-Z0l",
        "outputId": "ea4a467c-bbd2-4035-c72f-f5221c020b31"
      },
      "source": [
        "# basic info\r\n",
        "df.info()"
      ],
      "execution_count": 36,
      "outputs": [
        {
          "output_type": "stream",
          "text": [
            "<class 'pandas.core.frame.DataFrame'>\n",
            "RangeIndex: 19158 entries, 0 to 19157\n",
            "Data columns (total 14 columns):\n",
            " #   Column                  Non-Null Count  Dtype  \n",
            "---  ------                  --------------  -----  \n",
            " 0   enrollee_id             19158 non-null  int64  \n",
            " 1   city                    19158 non-null  object \n",
            " 2   city_development_index  19158 non-null  float64\n",
            " 3   gender                  14650 non-null  object \n",
            " 4   relevent_experience     19158 non-null  object \n",
            " 5   enrolled_university     18772 non-null  object \n",
            " 6   education_level         18698 non-null  object \n",
            " 7   major_discipline        16345 non-null  object \n",
            " 8   experience              19093 non-null  object \n",
            " 9   company_size            13220 non-null  object \n",
            " 10  company_type            13018 non-null  object \n",
            " 11  last_new_job            18735 non-null  object \n",
            " 12  training_hours          19158 non-null  int64  \n",
            " 13  target                  19158 non-null  float64\n",
            "dtypes: float64(2), int64(2), object(10)\n",
            "memory usage: 2.0+ MB\n"
          ],
          "name": "stdout"
        }
      ]
    },
    {
      "cell_type": "code",
      "metadata": {
        "colab": {
          "base_uri": "https://localhost:8080/"
        },
        "id": "1QsDbkxZu8I5",
        "outputId": "b164c90a-9604-4c1e-f2f0-42cc4ecc644b"
      },
      "source": [
        "# null values\r\n",
        "df.isnull().sum()"
      ],
      "execution_count": 37,
      "outputs": [
        {
          "output_type": "execute_result",
          "data": {
            "text/plain": [
              "enrollee_id                  0\n",
              "city                         0\n",
              "city_development_index       0\n",
              "gender                    4508\n",
              "relevent_experience          0\n",
              "enrolled_university        386\n",
              "education_level            460\n",
              "major_discipline          2813\n",
              "experience                  65\n",
              "company_size              5938\n",
              "company_type              6140\n",
              "last_new_job               423\n",
              "training_hours               0\n",
              "target                       0\n",
              "dtype: int64"
            ]
          },
          "metadata": {
            "tags": []
          },
          "execution_count": 37
        }
      ]
    },
    {
      "cell_type": "markdown",
      "metadata": {
        "id": "I14NAw_OHtBn"
      },
      "source": [
        "# Data Visualization"
      ]
    },
    {
      "cell_type": "markdown",
      "metadata": {
        "id": "kXd6VCEpHyjY"
      },
      "source": [
        "### Which gender is more likely to move for a new job?"
      ]
    },
    {
      "cell_type": "code",
      "metadata": {
        "colab": {
          "base_uri": "https://localhost:8080/",
          "height": 350
        },
        "id": "32eWByJLHwqU",
        "outputId": "ea59b684-a4a8-4413-fd5a-0435da70c52f"
      },
      "source": [
        "sns.countplot(df['gender'])"
      ],
      "execution_count": 38,
      "outputs": [
        {
          "output_type": "stream",
          "text": [
            "/usr/local/lib/python3.6/dist-packages/seaborn/_decorators.py:43: FutureWarning: Pass the following variable as a keyword arg: x. From version 0.12, the only valid positional argument will be `data`, and passing other arguments without an explicit keyword will result in an error or misinterpretation.\n",
            "  FutureWarning\n"
          ],
          "name": "stderr"
        },
        {
          "output_type": "execute_result",
          "data": {
            "text/plain": [
              "<matplotlib.axes._subplots.AxesSubplot at 0x7ff1ba0fb7b8>"
            ]
          },
          "metadata": {
            "tags": []
          },
          "execution_count": 38
        },
        {
          "output_type": "display_data",
          "data": {
            "image/png": "[encoded data removed]",
            "text/plain": [
              "<Figure size 432x288 with 1 Axes>"
            ]
          },
          "metadata": {
            "tags": [],
            "needs_background": "light"
          }
        }
      ]
    },
    {
      "cell_type": "code",
      "metadata": {
        "colab": {
          "base_uri": "https://localhost:8080/",
          "height": 504
        },
        "id": "_jQLSuacHwmK",
        "outputId": "53d6d9e4-e4a5-4f6a-e3f9-7eb438f8dd04"
      },
      "source": [
        "gender = df[df['target'] == 1]['gender']\r\n",
        "temp = gender.value_counts()\r\n",
        "labels = temp.keys()\r\n",
        "bar,ax = plt.subplots(figsize=(8,8))\r\n",
        "plt.pie(x = temp, labels = labels , colors = ['blue','yellow','red'], autopct=\"%.2f%%\",pctdistance=0.7)\r\n",
        "plt.title('Gender % looking for new job', fontsize=20)"
      ],
      "execution_count": 39,
      "outputs": [
        {
          "output_type": "execute_result",
          "data": {
            "text/plain": [
              "Text(0.5, 1.0, 'Gender % looking for new job')"
            ]
          },
          "metadata": {
            "tags": []
          },
          "execution_count": 39
        },
        {
          "output_type": "display_data",
          "data": {
            "image/png": "[encoded data removed]",
            "text/plain": [
              "<Figure size 576x576 with 1 Axes>"
            ]
          },
          "metadata": {
            "tags": []
          }
        }
      ]
    },
    {
      "cell_type": "code",
      "metadata": {
        "colab": {
          "base_uri": "https://localhost:8080/"
        },
        "id": "5R02tDqdHwh8",
        "outputId": "bd35a7a9-28d5-40bb-e7e5-515a6ceed934"
      },
      "source": [
        "male_newjob = df[(df['gender']=='Male') & df['target']==1]\r\n",
        "female_newjob = df[(df['gender']=='Female') & df['target']==1]\r\n",
        "\r\n",
        "# print\r\n",
        "print('{} % of male who are looking for a new job'.format(len(male_newjob)/len(df['gender']=='Male')*100))\r\n",
        "print('{} % of female who are looking for a new job'.format(len(female_newjob)/len(df['gender']=='Female')*100))"
      ],
      "execution_count": 41,
      "outputs": [
        {
          "output_type": "stream",
          "text": [
            "15.721891637958032 % of male who are looking for a new job\n",
            "1.7016390019835057 % of female who are looking for a new job\n"
          ],
          "name": "stdout"
        }
      ]
    },
    {
      "cell_type": "markdown",
      "metadata": {
        "id": "RssM37fEIIJK"
      },
      "source": [
        "### From which company type people are looking for new job?"
      ]
    },
    {
      "cell_type": "code",
      "metadata": {
        "colab": {
          "base_uri": "https://localhost:8080/",
          "height": 388
        },
        "id": "39XAj3NoHwYj",
        "outputId": "fcd56140-99e3-4f55-b18d-21151fd7095a"
      },
      "source": [
        "plt.figure(figsize=(8,5))\r\n",
        "sns.countplot(df['company_type'])\r\n",
        "plt.show()"
      ],
      "execution_count": 42,
      "outputs": [
        {
          "output_type": "stream",
          "text": [
            "/usr/local/lib/python3.6/dist-packages/seaborn/_decorators.py:43: FutureWarning: Pass the following variable as a keyword arg: x. From version 0.12, the only valid positional argument will be `data`, and passing other arguments without an explicit keyword will result in an error or misinterpretation.\n",
            "  FutureWarning\n"
          ],
          "name": "stderr"
        },
        {
          "output_type": "display_data",
          "data": {
            "image/png": "[encoded data removed]",
            "text/plain": [
              "<Figure size 576x360 with 1 Axes>"
            ]
          },
          "metadata": {
            "tags": [],
            "needs_background": "light"
          }
        }
      ]
    },
    {
      "cell_type": "markdown",
      "metadata": {
        "id": "md2yauxsITyW"
      },
      "source": [
        "From above we can see that most people work in private companies"
      ]
    },
    {
      "cell_type": "code",
      "metadata": {
        "colab": {
          "base_uri": "https://localhost:8080/",
          "height": 504
        },
        "id": "SVBpXvZoIRbu",
        "outputId": "a3f48897-6ee7-455b-d6b1-e1780af2041e"
      },
      "source": [
        "company_type = df[df['target'] == 1]['company_type']\r\n",
        "temp = company_type.value_counts()\r\n",
        "labels = temp.keys()\r\n",
        "bar,ax = plt.subplots(figsize=(8,8))\r\n",
        "plt.pie(x = temp, labels = labels, autopct=\"%.1f%%\",pctdistance=0.7)\r\n",
        "plt.title('People leaving company', fontsize=20)"
      ],
      "execution_count": 43,
      "outputs": [
        {
          "output_type": "execute_result",
          "data": {
            "text/plain": [
              "Text(0.5, 1.0, 'People leaving company')"
            ]
          },
          "metadata": {
            "tags": []
          },
          "execution_count": 43
        },
        {
          "output_type": "display_data",
          "data": {
            "image/png": "[encoded data removed]",
            "text/plain": [
              "<Figure size 576x576 with 1 Axes>"
            ]
          },
          "metadata": {
            "tags": []
          }
        }
      ]
    },
    {
      "cell_type": "code",
      "metadata": {
        "colab": {
          "base_uri": "https://localhost:8080/"
        },
        "id": "7v95xQA9IRXW",
        "outputId": "d72a0e39-e616-4743-924c-852984b9bebf"
      },
      "source": [
        "for i in df['company_type'].unique():\r\n",
        "    company_newjob = df[(df['company_type']==i) & df['target']==1]\r\n",
        "    print('{} % of {} who are looking for a new job'.format(len(company_newjob)/len(df['company_type']==i)*100,i))"
      ],
      "execution_count": 44,
      "outputs": [
        {
          "output_type": "stream",
          "text": [
            "0.0 % of nan who are looking for a new job\n",
            "9.2650589831924 % of Pvt Ltd who are looking for a new job\n",
            "0.7307652155757386 % of Funded Startup who are looking for a new job\n",
            "0.741204718655392 % of Early Stage Startup who are looking for a new job\n",
            "0.15137279465497444 % of Other who are looking for a new job\n",
            "1.096147823363608 % of Public Sector who are looking for a new job\n",
            "0.5063158993631903 % of NGO who are looking for a new job\n"
          ],
          "name": "stdout"
        }
      ]
    },
    {
      "cell_type": "markdown",
      "metadata": {
        "id": "dzsyN4pwIbmD"
      },
      "source": [
        "So from above we can see that the maximum number of people who are looking for new job are from private companies"
      ]
    },
    {
      "cell_type": "markdown",
      "metadata": {
        "id": "r3U7FixUIeC3"
      },
      "source": [
        "### People with relevant experience are looking for a new job?"
      ]
    },
    {
      "cell_type": "code",
      "metadata": {
        "colab": {
          "base_uri": "https://localhost:8080/",
          "height": 351
        },
        "id": "0QkKCZ2zIRTU",
        "outputId": "f03a4f5c-9ed5-4135-ad5c-38a7e3a2415a"
      },
      "source": [
        "sns.countplot(df['relevent_experience'])"
      ],
      "execution_count": 45,
      "outputs": [
        {
          "output_type": "stream",
          "text": [
            "/usr/local/lib/python3.6/dist-packages/seaborn/_decorators.py:43: FutureWarning: Pass the following variable as a keyword arg: x. From version 0.12, the only valid positional argument will be `data`, and passing other arguments without an explicit keyword will result in an error or misinterpretation.\n",
            "  FutureWarning\n"
          ],
          "name": "stderr"
        },
        {
          "output_type": "execute_result",
          "data": {
            "text/plain": [
              "<matplotlib.axes._subplots.AxesSubplot at 0x7ff1b9a808d0>"
            ]
          },
          "metadata": {
            "tags": []
          },
          "execution_count": 45
        },
        {
          "output_type": "display_data",
          "data": {
            "image/png": "[encoded data removed]",
            "text/plain": [
              "<Figure size 432x288 with 1 Axes>"
            ]
          },
          "metadata": {
            "tags": [],
            "needs_background": "light"
          }
        }
      ]
    },
    {
      "cell_type": "code",
      "metadata": {
        "colab": {
          "base_uri": "https://localhost:8080/",
          "height": 366
        },
        "id": "TeVvdFpjIROy",
        "outputId": "e25c100a-208f-4a7b-d4e9-1a79f4921cbf"
      },
      "source": [
        "sns.countplot(df['relevent_experience'],hue=df['target'])\r\n",
        "plt.xlabel('target')\r\n",
        "plt.ylabel('count')\r\n",
        "plt.title('Relevent experience on the basis of target')"
      ],
      "execution_count": 46,
      "outputs": [
        {
          "output_type": "stream",
          "text": [
            "/usr/local/lib/python3.6/dist-packages/seaborn/_decorators.py:43: FutureWarning: Pass the following variable as a keyword arg: x. From version 0.12, the only valid positional argument will be `data`, and passing other arguments without an explicit keyword will result in an error or misinterpretation.\n",
            "  FutureWarning\n"
          ],
          "name": "stderr"
        },
        {
          "output_type": "execute_result",
          "data": {
            "text/plain": [
              "Text(0.5, 1.0, 'Relevent experience on the basis of target')"
            ]
          },
          "metadata": {
            "tags": []
          },
          "execution_count": 46
        },
        {
          "output_type": "display_data",
          "data": {
            "image/png": "[encoded data removed]",
            "text/plain": [
              "<Figure size 432x288 with 1 Axes>"
            ]
          },
          "metadata": {
            "tags": [],
            "needs_background": "light"
          }
        }
      ]
    },
    {
      "cell_type": "code",
      "metadata": {
        "colab": {
          "base_uri": "https://localhost:8080/"
        },
        "id": "WmYOA-ZnIRKk",
        "outputId": "a7dd06de-7452-42a4-fa8e-b75e60d0534b"
      },
      "source": [
        "yes_newjob = df[(df['relevent_experience']=='Has relevent experience') & df['target']==1]\r\n",
        "no_newjob = df[(df['relevent_experience']=='No relevent experience') & df['target']==1]\r\n",
        "\r\n",
        "# print\r\n",
        "print('{} % of having relevant experience who are looking for a new job'.format(len(yes_newjob)/len(df['relevent_experience']=='Has relevent experience')*100))\r\n",
        "print('{} % of not havinf relevant experience who are looking for a new job'.format(len(no_newjob)/len(df['relevent_experience']=='No relevent experience')*100))"
      ],
      "execution_count": 47,
      "outputs": [
        {
          "output_type": "stream",
          "text": [
            "15.45568430942687 % of having relevant experience who are looking for a new job\n",
            "9.479068796325295 % of not havinf relevant experience who are looking for a new job\n"
          ],
          "name": "stdout"
        }
      ]
    },
    {
      "cell_type": "markdown",
      "metadata": {
        "id": "nt1CPOs8IpR0"
      },
      "source": [
        "### Did any people got into data science field without having graduation degree?"
      ]
    },
    {
      "cell_type": "code",
      "metadata": {
        "colab": {
          "base_uri": "https://localhost:8080/",
          "height": 352
        },
        "id": "v48nBnwTIRFz",
        "outputId": "7b53f637-62d3-4d43-c8b9-c849432cb632"
      },
      "source": [
        "sns.countplot(df['education_level'])"
      ],
      "execution_count": 48,
      "outputs": [
        {
          "output_type": "stream",
          "text": [
            "/usr/local/lib/python3.6/dist-packages/seaborn/_decorators.py:43: FutureWarning: Pass the following variable as a keyword arg: x. From version 0.12, the only valid positional argument will be `data`, and passing other arguments without an explicit keyword will result in an error or misinterpretation.\n",
            "  FutureWarning\n"
          ],
          "name": "stderr"
        },
        {
          "output_type": "execute_result",
          "data": {
            "text/plain": [
              "<matplotlib.axes._subplots.AxesSubplot at 0x7ff1b9a7b5f8>"
            ]
          },
          "metadata": {
            "tags": []
          },
          "execution_count": 48
        },
        {
          "output_type": "display_data",
          "data": {
            "image/png": "[encoded data removed]",
            "text/plain": [
              "<Figure size 432x288 with 1 Axes>"
            ]
          },
          "metadata": {
            "tags": [],
            "needs_background": "light"
          }
        }
      ]
    },
    {
      "cell_type": "code",
      "metadata": {
        "colab": {
          "base_uri": "https://localhost:8080/"
        },
        "id": "T5WnPCqDIRA5",
        "outputId": "dfc5c767-fa77-49a2-a299-9aef33652afc"
      },
      "source": [
        "people_withoutdegree = df[(df['education_level'] == 'Primary School')& (df['education_level']=='High School') & (df['enrolled_university'] == \"no_enrollment\")]\r\n",
        "print(\"People who have got into the data science world without graduation are\", len(people_withoutdegree))"
      ],
      "execution_count": 49,
      "outputs": [
        {
          "output_type": "stream",
          "text": [
            "People who have got into the data science world without graduation are 0\n"
          ],
          "name": "stdout"
        }
      ]
    },
    {
      "cell_type": "markdown",
      "metadata": {
        "id": "4LPGpPY_Iygp"
      },
      "source": [
        "So their is not a single person who get into this field without graduation."
      ]
    },
    {
      "cell_type": "markdown",
      "metadata": {
        "id": "azIoMq_5I1Q0"
      },
      "source": [
        "### Years between last and current job?"
      ]
    },
    {
      "cell_type": "code",
      "metadata": {
        "colab": {
          "base_uri": "https://localhost:8080/",
          "height": 351
        },
        "id": "XqIs_6fgIwoA",
        "outputId": "6173149e-6ff0-4b46-9b62-b4afde59a754"
      },
      "source": [
        "sns.countplot(df['last_new_job'])"
      ],
      "execution_count": 50,
      "outputs": [
        {
          "output_type": "stream",
          "text": [
            "/usr/local/lib/python3.6/dist-packages/seaborn/_decorators.py:43: FutureWarning: Pass the following variable as a keyword arg: x. From version 0.12, the only valid positional argument will be `data`, and passing other arguments without an explicit keyword will result in an error or misinterpretation.\n",
            "  FutureWarning\n"
          ],
          "name": "stderr"
        },
        {
          "output_type": "execute_result",
          "data": {
            "text/plain": [
              "<matplotlib.axes._subplots.AxesSubplot at 0x7ff1b99a5160>"
            ]
          },
          "metadata": {
            "tags": []
          },
          "execution_count": 50
        },
        {
          "output_type": "display_data",
          "data": {
            "image/png": "[encoded data removed]",
            "text/plain": [
              "<Figure size 432x288 with 1 Axes>"
            ]
          },
          "metadata": {
            "tags": [],
            "needs_background": "light"
          }
        }
      ]
    },
    {
      "cell_type": "code",
      "metadata": {
        "colab": {
          "base_uri": "https://localhost:8080/",
          "height": 596
        },
        "id": "pwqEoaccIwjW",
        "outputId": "7f597db0-8081-47b7-8bba-5baa3b810cfd"
      },
      "source": [
        "fig, ax = plt.subplots(figsize=(10, 10))\r\n",
        "count = Counter(df['last_new_job'])\r\n",
        "plt.pie(count.values(), labels=count.keys(), labeldistance=0.75, autopct=lambda p:f'{p:.2f}%',\r\n",
        "       explode=[0.05]+[0]*6, shadow=True)\r\n",
        "plt.title('Number of years between last and current job', fontsize=20)\r\n",
        "plt.show()"
      ],
      "execution_count": 53,
      "outputs": [
        {
          "output_type": "display_data",
          "data": {
            "image/png": "[encoded data removed]",
            "text/plain": [
              "<Figure size 720x720 with 1 Axes>"
            ]
          },
          "metadata": {
            "tags": []
          }
        }
      ]
    },
    {
      "cell_type": "markdown",
      "metadata": {
        "id": "xgWWJLq2JHj4"
      },
      "source": [
        "# Data Preprocessing"
      ]
    },
    {
      "cell_type": "markdown",
      "metadata": {
        "id": "n0TYkddaJMcS"
      },
      "source": [
        "First of all we are going to drop unnecessary columns,so we don't require enrollee_id and city column"
      ]
    },
    {
      "cell_type": "code",
      "metadata": {
        "id": "rnse16YwIwfA"
      },
      "source": [
        "df.drop(['enrollee_id','city'],axis=1,inplace=True)"
      ],
      "execution_count": 54,
      "outputs": []
    },
    {
      "cell_type": "markdown",
      "metadata": {
        "id": "ReSvTlM0JRWU"
      },
      "source": [
        "### Countplot for some categorical feature"
      ]
    },
    {
      "cell_type": "markdown",
      "metadata": {
        "id": "W_SrZ99uJWuB"
      },
      "source": [
        "We already have seen countplot for various features.Now,we are going to see countplot for the features we haven't seen yet"
      ]
    },
    {
      "cell_type": "code",
      "metadata": {
        "colab": {
          "base_uri": "https://localhost:8080/",
          "height": 352
        },
        "id": "j7Lk5-tfIQz4",
        "outputId": "46a34f54-3dc2-420c-c6fa-84f7c6bc35f6"
      },
      "source": [
        "sns.countplot(df['enrolled_university'])"
      ],
      "execution_count": 55,
      "outputs": [
        {
          "output_type": "stream",
          "text": [
            "/usr/local/lib/python3.6/dist-packages/seaborn/_decorators.py:43: FutureWarning: Pass the following variable as a keyword arg: x. From version 0.12, the only valid positional argument will be `data`, and passing other arguments without an explicit keyword will result in an error or misinterpretation.\n",
            "  FutureWarning\n"
          ],
          "name": "stderr"
        },
        {
          "output_type": "execute_result",
          "data": {
            "text/plain": [
              "<matplotlib.axes._subplots.AxesSubplot at 0x7ff1b9892978>"
            ]
          },
          "metadata": {
            "tags": []
          },
          "execution_count": 55
        },
        {
          "output_type": "display_data",
          "data": {
            "image/png": "[encoded data removed]",
            "text/plain": [
              "<Figure size 432x288 with 1 Axes>"
            ]
          },
          "metadata": {
            "tags": [],
            "needs_background": "light"
          }
        }
      ]
    },
    {
      "cell_type": "markdown",
      "metadata": {
        "id": "scp4gXLHJcYl"
      },
      "source": [
        "So it's seems like most people wjo are currently doing job haven't enrolled in any university"
      ]
    },
    {
      "cell_type": "code",
      "metadata": {
        "colab": {
          "base_uri": "https://localhost:8080/",
          "height": 351
        },
        "id": "6G3Yl3KpJae8",
        "outputId": "fab73a5a-c7f3-4d1f-a16e-c486a6d0b8fd"
      },
      "source": [
        "sns.countplot(df['major_discipline'])"
      ],
      "execution_count": 56,
      "outputs": [
        {
          "output_type": "stream",
          "text": [
            "/usr/local/lib/python3.6/dist-packages/seaborn/_decorators.py:43: FutureWarning: Pass the following variable as a keyword arg: x. From version 0.12, the only valid positional argument will be `data`, and passing other arguments without an explicit keyword will result in an error or misinterpretation.\n",
            "  FutureWarning\n"
          ],
          "name": "stderr"
        },
        {
          "output_type": "execute_result",
          "data": {
            "text/plain": [
              "<matplotlib.axes._subplots.AxesSubplot at 0x7ff1b97ca978>"
            ]
          },
          "metadata": {
            "tags": []
          },
          "execution_count": 56
        },
        {
          "output_type": "display_data",
          "data": {
            "image/png": "[encoded data removed]",
            "text/plain": [
              "<Figure size 432x288 with 1 Axes>"
            ]
          },
          "metadata": {
            "tags": [],
            "needs_background": "light"
          }
        }
      ]
    },
    {
      "cell_type": "code",
      "metadata": {
        "id": "c0R6x56e0yF1"
      },
      "source": [
        "df.replace(to_replace = 'Has relevent experience',value = 'Yes',inplace = True)\r\n",
        "df.replace(to_replace = 'No relevent experience',value='No',inplace = True )\r\n",
        "\r\n",
        "df.replace(to_replace = '<1',value = '0',inplace = True)\r\n",
        "df.replace(to_replace = '>20',value = '21',inplace=True)\r\n",
        "df.replace(to_replace = 'never',value = '0',inplace=True)\r\n",
        "df.replace(to_replace = '>4',value = '5',inplace=True)\r\n",
        "\r\n",
        "df.replace(to_replace = '<10',value = 'around_10',inplace=True)\r\n",
        "df.replace(to_replace = '10/49',value = 'around_50',inplace=True)\r\n",
        "df.replace(to_replace = '50-99',value = 'around_100',inplace=True)\r\n",
        "df.replace(to_replace = '100-500',value = 'around_500',inplace=True)\r\n",
        "df.replace(to_replace = '500-999',value = 'around_1000',inplace=True)\r\n",
        "df.replace(to_replace = '1000-4999',value = 'around_5000',inplace=True)\r\n",
        "df.replace(to_replace = '5000-9999',value = 'around_10000',inplace=True)\r\n",
        "df.replace(to_replace = '10000+',value = 'more_than_10000',inplace=True)\r\n",
        "\r\n",
        "df.replace(to_replace = 'Full time course',value = 'Full_time_course',inplace=True)\r\n",
        "df.replace(to_replace = 'Part time course',value = 'Part_time_course',inplace=True)\r\n",
        "\r\n",
        "df.replace(to_replace = 'Primary School',value = 'Primary_School',inplace=True)\r\n",
        "df.replace(to_replace = 'High School',value = 'High_School',inplace=True)\r\n",
        "\r\n",
        "df.replace(to_replace = 'Business Degree',value = 'Business_Degree',inplace=True)\r\n",
        "df.replace(to_replace = 'No Major',value = 'No_Major',inplace=True)\r\n",
        "\r\n",
        "df.replace(to_replace = 'Pvt Ltd',value = 'Pvt_Ltd',inplace=True)\r\n",
        "df.replace(to_replace = 'Funded Startup',value = 'Funded_Startup',inplace=True)\r\n",
        "df.replace(to_replace = 'Public Sector',value = 'Public_Sector',inplace=True)\r\n",
        "df.replace(to_replace = 'Early Stage Startup',value = 'Early_Stage_Startup',inplace=True)\r\n",
        "\r\n",
        "df['major_discipline'].replace('Other','Other_major',inplace=True)\r\n",
        "df['company_type'].replace('Other','Other_type',inplace=True)"
      ],
      "execution_count": 57,
      "outputs": []
    },
    {
      "cell_type": "markdown",
      "metadata": {
        "id": "HwLZJwWFJzsn"
      },
      "source": [
        "### Deal with Null values"
      ]
    },
    {
      "cell_type": "code",
      "metadata": {
        "colab": {
          "base_uri": "https://localhost:8080/"
        },
        "id": "Tesv9_3cJ8lQ",
        "outputId": "2d83902a-6b2d-405b-e79e-d3ee7fbded17"
      },
      "source": [
        "# null value\r\n",
        "percent_null = df.isnull().sum()/df.shape[0]*100\r\n",
        "print(percent_null)"
      ],
      "execution_count": 58,
      "outputs": [
        {
          "output_type": "stream",
          "text": [
            "city_development_index     0.000000\n",
            "gender                    23.530640\n",
            "relevent_experience        0.000000\n",
            "enrolled_university        2.014824\n",
            "education_level            2.401086\n",
            "major_discipline          14.683161\n",
            "experience                 0.339284\n",
            "company_size              30.994885\n",
            "company_type              32.049274\n",
            "last_new_job               2.207955\n",
            "training_hours             0.000000\n",
            "target                     0.000000\n",
            "dtype: float64\n"
          ],
          "name": "stdout"
        }
      ]
    },
    {
      "cell_type": "markdown",
      "metadata": {
        "id": "Nhzuz2UzKA5a"
      },
      "source": [
        "Columns in which we have 2% or less than 2% null values we can drop those null values"
      ]
    },
    {
      "cell_type": "code",
      "metadata": {
        "id": "bCfIIJJCB2PU"
      },
      "source": [
        "df.dropna(subset=['enrolled_university','education_level','experience','last_new_job'], axis=0, inplace=True)"
      ],
      "execution_count": 59,
      "outputs": []
    },
    {
      "cell_type": "code",
      "metadata": {
        "colab": {
          "base_uri": "https://localhost:8080/"
        },
        "id": "gr9-JcOCB2Fr",
        "outputId": "7717c4a0-95cf-47e7-8042-e1b996521374"
      },
      "source": [
        "# after dropping those null values\r\n",
        "df.shape"
      ],
      "execution_count": 60,
      "outputs": [
        {
          "output_type": "execute_result",
          "data": {
            "text/plain": [
              "(18014, 12)"
            ]
          },
          "metadata": {
            "tags": []
          },
          "execution_count": 60
        }
      ]
    },
    {
      "cell_type": "markdown",
      "metadata": {
        "id": "IodfrBJ5KFsn"
      },
      "source": [
        "Now we are going to fill null values with their mode as all the columns left have dtype as 'object'"
      ]
    },
    {
      "cell_type": "code",
      "metadata": {
        "id": "tdtdrlK2B1Ay"
      },
      "source": [
        "col_mode = ['gender','company_size','major_discipline','company_type','relevent_experience']\r\n",
        "for col in col_mode:\r\n",
        "    df[col].fillna(df[col].mode()[0],inplace=True)"
      ],
      "execution_count": 61,
      "outputs": []
    },
    {
      "cell_type": "markdown",
      "metadata": {
        "id": "I7B-n348KKPT"
      },
      "source": [
        "Let's change the dtype of experience and last_new_job column"
      ]
    },
    {
      "cell_type": "code",
      "metadata": {
        "id": "61KuJwSItqHY"
      },
      "source": [
        "df = df.astype({'experience':int,'last_new_job':int})"
      ],
      "execution_count": 62,
      "outputs": []
    },
    {
      "cell_type": "markdown",
      "metadata": {
        "id": "vCL2XgpEKRrL"
      },
      "source": [
        "### Handling Categorical Values"
      ]
    },
    {
      "cell_type": "code",
      "metadata": {
        "id": "Tt-mD_IAuYtI"
      },
      "source": [
        "#  getdummies \r\n",
        "\r\n",
        "education_df = pd.get_dummies(df[['education_level']],drop_first=True,prefix=[None])\r\n",
        "company_size_df = pd.get_dummies(df[['company_size']],drop_first=True,prefix=[None])\r\n",
        "company_type_df = pd.get_dummies(df[['company_type']],drop_first=True,prefix=[None])\r\n",
        "major_df = pd.get_dummies(df[['major_discipline']],drop_first=True,prefix=[None])\r\n",
        "university_df = pd.get_dummies(df[['enrolled_university']],drop_first=True,prefix=[None])\r\n",
        "experience_df = pd.get_dummies(df[['relevent_experience']],drop_first=True,prefix=[None])\r\n",
        "gender_df = pd.get_dummies(df[['gender']],drop_first=True,prefix=[None])"
      ],
      "execution_count": 64,
      "outputs": []
    },
    {
      "cell_type": "code",
      "metadata": {
        "id": "MbU1l29XLITA"
      },
      "source": [
        "# drop original columns\r\n",
        "df.drop(['education_level','company_size','company_type','major_discipline','enrolled_university','relevent_experience','gender'],axis=1,inplace=True)"
      ],
      "execution_count": 65,
      "outputs": []
    },
    {
      "cell_type": "code",
      "metadata": {
        "id": "ks9uOhsQL23c"
      },
      "source": [
        "final_df = pd.concat([df,education_df,company_size_df,company_type_df,major_df,university_df,experience_df,gender_df],axis=1) "
      ],
      "execution_count": 66,
      "outputs": []
    },
    {
      "cell_type": "code",
      "metadata": {
        "colab": {
          "base_uri": "https://localhost:8080/",
          "height": 224
        },
        "id": "zSi5Y5PkHO-_",
        "outputId": "a913223f-34e3-480f-ebd2-cee3a3b1c439"
      },
      "source": [
        "final_df.head()"
      ],
      "execution_count": 67,
      "outputs": [
        {
          "output_type": "execute_result",
          "data": {
            "text/html": [
              "<div>\n",
              "<style scoped>\n",
              "    .dataframe tbody tr th:only-of-type {\n",
              "        vertical-align: middle;\n",
              "    }\n",
              "\n",
              "    .dataframe tbody tr th {\n",
              "        vertical-align: top;\n",
              "    }\n",
              "\n",
              "    .dataframe thead th {\n",
              "        text-align: right;\n",
              "    }\n",
              "</style>\n",
              "<table border=\"1\" class=\"dataframe\">\n",
              "  <thead>\n",
              "    <tr style=\"text-align: right;\">\n",
              "      <th></th>\n",
              "      <th>city_development_index</th>\n",
              "      <th>experience</th>\n",
              "      <th>last_new_job</th>\n",
              "      <th>training_hours</th>\n",
              "      <th>target</th>\n",
              "      <th>High_School</th>\n",
              "      <th>Masters</th>\n",
              "      <th>Phd</th>\n",
              "      <th>Primary_School</th>\n",
              "      <th>around_100</th>\n",
              "      <th>around_1000</th>\n",
              "      <th>around_10000</th>\n",
              "      <th>around_50</th>\n",
              "      <th>around_500</th>\n",
              "      <th>around_5000</th>\n",
              "      <th>more_than_10000</th>\n",
              "      <th>Funded_Startup</th>\n",
              "      <th>NGO</th>\n",
              "      <th>Other_type</th>\n",
              "      <th>Public_Sector</th>\n",
              "      <th>Pvt_Ltd</th>\n",
              "      <th>Business_Degree</th>\n",
              "      <th>Humanities</th>\n",
              "      <th>No_Major</th>\n",
              "      <th>Other_major</th>\n",
              "      <th>STEM</th>\n",
              "      <th>Part_time_course</th>\n",
              "      <th>no_enrollment</th>\n",
              "      <th>Yes</th>\n",
              "      <th>Male</th>\n",
              "      <th>Other</th>\n",
              "    </tr>\n",
              "  </thead>\n",
              "  <tbody>\n",
              "    <tr>\n",
              "      <th>0</th>\n",
              "      <td>0.920</td>\n",
              "      <td>21</td>\n",
              "      <td>1</td>\n",
              "      <td>36</td>\n",
              "      <td>1.0</td>\n",
              "      <td>0</td>\n",
              "      <td>0</td>\n",
              "      <td>0</td>\n",
              "      <td>0</td>\n",
              "      <td>1</td>\n",
              "      <td>0</td>\n",
              "      <td>0</td>\n",
              "      <td>0</td>\n",
              "      <td>0</td>\n",
              "      <td>0</td>\n",
              "      <td>0</td>\n",
              "      <td>0</td>\n",
              "      <td>0</td>\n",
              "      <td>0</td>\n",
              "      <td>0</td>\n",
              "      <td>1</td>\n",
              "      <td>0</td>\n",
              "      <td>0</td>\n",
              "      <td>0</td>\n",
              "      <td>0</td>\n",
              "      <td>1</td>\n",
              "      <td>0</td>\n",
              "      <td>1</td>\n",
              "      <td>1</td>\n",
              "      <td>1</td>\n",
              "      <td>0</td>\n",
              "    </tr>\n",
              "    <tr>\n",
              "      <th>1</th>\n",
              "      <td>0.776</td>\n",
              "      <td>15</td>\n",
              "      <td>5</td>\n",
              "      <td>47</td>\n",
              "      <td>0.0</td>\n",
              "      <td>0</td>\n",
              "      <td>0</td>\n",
              "      <td>0</td>\n",
              "      <td>0</td>\n",
              "      <td>1</td>\n",
              "      <td>0</td>\n",
              "      <td>0</td>\n",
              "      <td>0</td>\n",
              "      <td>0</td>\n",
              "      <td>0</td>\n",
              "      <td>0</td>\n",
              "      <td>0</td>\n",
              "      <td>0</td>\n",
              "      <td>0</td>\n",
              "      <td>0</td>\n",
              "      <td>1</td>\n",
              "      <td>0</td>\n",
              "      <td>0</td>\n",
              "      <td>0</td>\n",
              "      <td>0</td>\n",
              "      <td>1</td>\n",
              "      <td>0</td>\n",
              "      <td>1</td>\n",
              "      <td>0</td>\n",
              "      <td>1</td>\n",
              "      <td>0</td>\n",
              "    </tr>\n",
              "    <tr>\n",
              "      <th>2</th>\n",
              "      <td>0.624</td>\n",
              "      <td>5</td>\n",
              "      <td>0</td>\n",
              "      <td>83</td>\n",
              "      <td>0.0</td>\n",
              "      <td>0</td>\n",
              "      <td>0</td>\n",
              "      <td>0</td>\n",
              "      <td>0</td>\n",
              "      <td>1</td>\n",
              "      <td>0</td>\n",
              "      <td>0</td>\n",
              "      <td>0</td>\n",
              "      <td>0</td>\n",
              "      <td>0</td>\n",
              "      <td>0</td>\n",
              "      <td>0</td>\n",
              "      <td>0</td>\n",
              "      <td>0</td>\n",
              "      <td>0</td>\n",
              "      <td>1</td>\n",
              "      <td>0</td>\n",
              "      <td>0</td>\n",
              "      <td>0</td>\n",
              "      <td>0</td>\n",
              "      <td>1</td>\n",
              "      <td>0</td>\n",
              "      <td>0</td>\n",
              "      <td>0</td>\n",
              "      <td>1</td>\n",
              "      <td>0</td>\n",
              "    </tr>\n",
              "    <tr>\n",
              "      <th>4</th>\n",
              "      <td>0.767</td>\n",
              "      <td>21</td>\n",
              "      <td>4</td>\n",
              "      <td>8</td>\n",
              "      <td>0.0</td>\n",
              "      <td>0</td>\n",
              "      <td>1</td>\n",
              "      <td>0</td>\n",
              "      <td>0</td>\n",
              "      <td>1</td>\n",
              "      <td>0</td>\n",
              "      <td>0</td>\n",
              "      <td>0</td>\n",
              "      <td>0</td>\n",
              "      <td>0</td>\n",
              "      <td>0</td>\n",
              "      <td>1</td>\n",
              "      <td>0</td>\n",
              "      <td>0</td>\n",
              "      <td>0</td>\n",
              "      <td>0</td>\n",
              "      <td>0</td>\n",
              "      <td>0</td>\n",
              "      <td>0</td>\n",
              "      <td>0</td>\n",
              "      <td>1</td>\n",
              "      <td>0</td>\n",
              "      <td>1</td>\n",
              "      <td>1</td>\n",
              "      <td>1</td>\n",
              "      <td>0</td>\n",
              "    </tr>\n",
              "    <tr>\n",
              "      <th>5</th>\n",
              "      <td>0.764</td>\n",
              "      <td>11</td>\n",
              "      <td>1</td>\n",
              "      <td>24</td>\n",
              "      <td>1.0</td>\n",
              "      <td>0</td>\n",
              "      <td>0</td>\n",
              "      <td>0</td>\n",
              "      <td>0</td>\n",
              "      <td>1</td>\n",
              "      <td>0</td>\n",
              "      <td>0</td>\n",
              "      <td>0</td>\n",
              "      <td>0</td>\n",
              "      <td>0</td>\n",
              "      <td>0</td>\n",
              "      <td>0</td>\n",
              "      <td>0</td>\n",
              "      <td>0</td>\n",
              "      <td>0</td>\n",
              "      <td>1</td>\n",
              "      <td>0</td>\n",
              "      <td>0</td>\n",
              "      <td>0</td>\n",
              "      <td>0</td>\n",
              "      <td>1</td>\n",
              "      <td>1</td>\n",
              "      <td>0</td>\n",
              "      <td>1</td>\n",
              "      <td>1</td>\n",
              "      <td>0</td>\n",
              "    </tr>\n",
              "  </tbody>\n",
              "</table>\n",
              "</div>"
            ],
            "text/plain": [
              "   city_development_index  experience  last_new_job  ...  Yes  Male  Other\n",
              "0                   0.920          21             1  ...    1     1      0\n",
              "1                   0.776          15             5  ...    0     1      0\n",
              "2                   0.624           5             0  ...    0     1      0\n",
              "4                   0.767          21             4  ...    1     1      0\n",
              "5                   0.764          11             1  ...    1     1      0\n",
              "\n",
              "[5 rows x 31 columns]"
            ]
          },
          "metadata": {
            "tags": []
          },
          "execution_count": 67
        }
      ]
    },
    {
      "cell_type": "markdown",
      "metadata": {
        "id": "fh5LoNi3KhVc"
      },
      "source": [
        "# Model"
      ]
    },
    {
      "cell_type": "code",
      "metadata": {
        "id": "ZaUzUCqYqv7r"
      },
      "source": [
        "X = final_df.drop(['target'], axis = 1)\r\n",
        "Y = final_df['target']"
      ],
      "execution_count": 68,
      "outputs": []
    },
    {
      "cell_type": "markdown",
      "metadata": {
        "id": "wcJtky1GKkYt"
      },
      "source": [
        "Let's see weather our dataset is balanced or imbalanced"
      ]
    },
    {
      "cell_type": "code",
      "metadata": {
        "colab": {
          "base_uri": "https://localhost:8080/",
          "height": 350
        },
        "id": "LB0Ll6VDKldQ",
        "outputId": "39757eff-5104-429e-b538-178cd7ceac0f"
      },
      "source": [
        "sns.countplot(df['target'])"
      ],
      "execution_count": 69,
      "outputs": [
        {
          "output_type": "stream",
          "text": [
            "/usr/local/lib/python3.6/dist-packages/seaborn/_decorators.py:43: FutureWarning: Pass the following variable as a keyword arg: x. From version 0.12, the only valid positional argument will be `data`, and passing other arguments without an explicit keyword will result in an error or misinterpretation.\n",
            "  FutureWarning\n"
          ],
          "name": "stderr"
        },
        {
          "output_type": "execute_result",
          "data": {
            "text/plain": [
              "<matplotlib.axes._subplots.AxesSubplot at 0x7ff1b97509b0>"
            ]
          },
          "metadata": {
            "tags": []
          },
          "execution_count": 69
        },
        {
          "output_type": "display_data",
          "data": {
            "image/png": "[encoded data removed]",
            "text/plain": [
              "<Figure size 432x288 with 1 Axes>"
            ]
          },
          "metadata": {
            "tags": [],
            "needs_background": "light"
          }
        }
      ]
    },
    {
      "cell_type": "markdown",
      "metadata": {
        "id": "T0ishoBrKpwZ"
      },
      "source": [
        "We can see that our dataset is imbalanced dataset.We are going to use smote technique to deal with our imablanced dataset"
      ]
    },
    {
      "cell_type": "code",
      "metadata": {
        "colab": {
          "base_uri": "https://localhost:8080/",
          "height": 370
        },
        "id": "pscpt1veJbJV",
        "outputId": "bcac24ab-d971-4b97-e42a-bb45d510edde"
      },
      "source": [
        "smote = SMOTE(random_state = 402)\r\n",
        "X_smote, Y_smote = smote.fit_resample(X,Y)\r\n",
        "\r\n",
        "\r\n",
        "sns.countplot(Y_smote)"
      ],
      "execution_count": 70,
      "outputs": [
        {
          "output_type": "stream",
          "text": [
            "/usr/local/lib/python3.6/dist-packages/sklearn/utils/deprecation.py:87: FutureWarning: Function safe_indexing is deprecated; safe_indexing is deprecated in version 0.22 and will be removed in version 0.24.\n",
            "  warnings.warn(msg, category=FutureWarning)\n",
            "/usr/local/lib/python3.6/dist-packages/seaborn/_decorators.py:43: FutureWarning: Pass the following variable as a keyword arg: x. From version 0.12, the only valid positional argument will be `data`, and passing other arguments without an explicit keyword will result in an error or misinterpretation.\n",
            "  FutureWarning\n"
          ],
          "name": "stderr"
        },
        {
          "output_type": "execute_result",
          "data": {
            "text/plain": [
              "<matplotlib.axes._subplots.AxesSubplot at 0x7ff1b96af2b0>"
            ]
          },
          "metadata": {
            "tags": []
          },
          "execution_count": 70
        },
        {
          "output_type": "display_data",
          "data": {
            "image/png": "[encoded data removed]",
            "text/plain": [
              "<Figure size 432x288 with 1 Axes>"
            ]
          },
          "metadata": {
            "tags": [],
            "needs_background": "light"
          }
        }
      ]
    },
    {
      "cell_type": "markdown",
      "metadata": {
        "id": "LzwDI6k-K7bJ"
      },
      "source": [
        "### Train Test Split"
      ]
    },
    {
      "cell_type": "code",
      "metadata": {
        "id": "tFeLdrTkqUlH"
      },
      "source": [
        "X_train, X_val, y_train, y_val = train_test_split(X_smote, Y_smote, test_size = 0.2 ,random_state = 42)"
      ],
      "execution_count": 71,
      "outputs": []
    },
    {
      "cell_type": "markdown",
      "metadata": {
        "id": "jeI-eo78K_zo"
      },
      "source": [
        "We need to normalize our dataset so it will not get bias towards only particular feature"
      ]
    },
    {
      "cell_type": "code",
      "metadata": {
        "id": "yTad86GKsUVd"
      },
      "source": [
        "sc=StandardScaler()\r\n",
        "X_train=sc.fit_transform(X_train)\r\n",
        "X_val=sc.fit(X_val)"
      ],
      "execution_count": 72,
      "outputs": []
    },
    {
      "cell_type": "markdown",
      "metadata": {
        "id": "3Qrsm8sZLFoZ"
      },
      "source": [
        "### RandomCV"
      ]
    },
    {
      "cell_type": "code",
      "metadata": {
        "colab": {
          "base_uri": "https://localhost:8080/"
        },
        "id": "Px4HGYgMnIhN",
        "outputId": "ff7fcd28-984e-4554-8122-c3864c55961c"
      },
      "source": [
        "clf = XGBClassifier()\r\n",
        "\r\n",
        "# A parameter grid for XGBoost\r\n",
        "params = {\r\n",
        "        'min_child_weight': [1, 5, 10],\r\n",
        "        'gamma': [0.5, 1, 1.5, 2, 5],\r\n",
        "        'subsample': [0.6, 0.8, 1.0],\r\n",
        "        'colsample_bytree': [0.6, 0.8, 1.0],\r\n",
        "        'max_depth': [3, 4, 5]\r\n",
        "        }\r\n",
        "\r\n",
        "random_cv=RandomizedSearchCV(estimator=clf,param_distributions=params,\r\n",
        "                             cv=5,n_iter=5,scoring='roc_auc',n_jobs=1,verbose=3,return_train_score=True,random_state=121)\r\n",
        "random_cv.fit(X_train,y_train)\r\n"
      ],
      "execution_count": 73,
      "outputs": [
        {
          "output_type": "stream",
          "text": [
            "Fitting 5 folds for each of 5 candidates, totalling 25 fits\n",
            "[CV] subsample=0.6, min_child_weight=5, max_depth=3, gamma=2, colsample_bytree=0.8 \n"
          ],
          "name": "stdout"
        },
        {
          "output_type": "stream",
          "text": [
            "[Parallel(n_jobs=1)]: Using backend SequentialBackend with 1 concurrent workers.\n"
          ],
          "name": "stderr"
        },
        {
          "output_type": "stream",
          "text": [
            "[CV]  subsample=0.6, min_child_weight=5, max_depth=3, gamma=2, colsample_bytree=0.8, score=(train=0.922, test=0.922), total=   2.0s\n",
            "[CV] subsample=0.6, min_child_weight=5, max_depth=3, gamma=2, colsample_bytree=0.8 \n"
          ],
          "name": "stdout"
        },
        {
          "output_type": "stream",
          "text": [
            "[Parallel(n_jobs=1)]: Done   1 out of   1 | elapsed:    2.1s remaining:    0.0s\n"
          ],
          "name": "stderr"
        },
        {
          "output_type": "stream",
          "text": [
            "[CV]  subsample=0.6, min_child_weight=5, max_depth=3, gamma=2, colsample_bytree=0.8, score=(train=0.923, test=0.920), total=   1.8s\n",
            "[CV] subsample=0.6, min_child_weight=5, max_depth=3, gamma=2, colsample_bytree=0.8 \n"
          ],
          "name": "stdout"
        },
        {
          "output_type": "stream",
          "text": [
            "[Parallel(n_jobs=1)]: Done   2 out of   2 | elapsed:    4.0s remaining:    0.0s\n"
          ],
          "name": "stderr"
        },
        {
          "output_type": "stream",
          "text": [
            "[CV]  subsample=0.6, min_child_weight=5, max_depth=3, gamma=2, colsample_bytree=0.8, score=(train=0.924, test=0.913), total=   1.8s\n",
            "[CV] subsample=0.6, min_child_weight=5, max_depth=3, gamma=2, colsample_bytree=0.8 \n",
            "[CV]  subsample=0.6, min_child_weight=5, max_depth=3, gamma=2, colsample_bytree=0.8, score=(train=0.923, test=0.915), total=   1.8s\n",
            "[CV] subsample=0.6, min_child_weight=5, max_depth=3, gamma=2, colsample_bytree=0.8 \n",
            "[CV]  subsample=0.6, min_child_weight=5, max_depth=3, gamma=2, colsample_bytree=0.8, score=(train=0.922, test=0.922), total=   1.8s\n",
            "[CV] subsample=0.6, min_child_weight=10, max_depth=4, gamma=2, colsample_bytree=1.0 \n",
            "[CV]  subsample=0.6, min_child_weight=10, max_depth=4, gamma=2, colsample_bytree=1.0, score=(train=0.930, test=0.927), total=   2.7s\n",
            "[CV] subsample=0.6, min_child_weight=10, max_depth=4, gamma=2, colsample_bytree=1.0 \n",
            "[CV]  subsample=0.6, min_child_weight=10, max_depth=4, gamma=2, colsample_bytree=1.0, score=(train=0.930, test=0.926), total=   2.7s\n",
            "[CV] subsample=0.6, min_child_weight=10, max_depth=4, gamma=2, colsample_bytree=1.0 \n",
            "[CV]  subsample=0.6, min_child_weight=10, max_depth=4, gamma=2, colsample_bytree=1.0, score=(train=0.931, test=0.920), total=   2.7s\n",
            "[CV] subsample=0.6, min_child_weight=10, max_depth=4, gamma=2, colsample_bytree=1.0 \n",
            "[CV]  subsample=0.6, min_child_weight=10, max_depth=4, gamma=2, colsample_bytree=1.0, score=(train=0.931, test=0.919), total=   2.7s\n",
            "[CV] subsample=0.6, min_child_weight=10, max_depth=4, gamma=2, colsample_bytree=1.0 \n",
            "[CV]  subsample=0.6, min_child_weight=10, max_depth=4, gamma=2, colsample_bytree=1.0, score=(train=0.930, test=0.927), total=   2.7s\n",
            "[CV] subsample=0.6, min_child_weight=1, max_depth=5, gamma=1.5, colsample_bytree=0.8 \n",
            "[CV]  subsample=0.6, min_child_weight=1, max_depth=5, gamma=1.5, colsample_bytree=0.8, score=(train=0.938, test=0.930), total=   2.9s\n",
            "[CV] subsample=0.6, min_child_weight=1, max_depth=5, gamma=1.5, colsample_bytree=0.8 \n",
            "[CV]  subsample=0.6, min_child_weight=1, max_depth=5, gamma=1.5, colsample_bytree=0.8, score=(train=0.939, test=0.929), total=   2.9s\n",
            "[CV] subsample=0.6, min_child_weight=1, max_depth=5, gamma=1.5, colsample_bytree=0.8 \n",
            "[CV]  subsample=0.6, min_child_weight=1, max_depth=5, gamma=1.5, colsample_bytree=0.8, score=(train=0.940, test=0.921), total=   2.8s\n",
            "[CV] subsample=0.6, min_child_weight=1, max_depth=5, gamma=1.5, colsample_bytree=0.8 \n",
            "[CV]  subsample=0.6, min_child_weight=1, max_depth=5, gamma=1.5, colsample_bytree=0.8, score=(train=0.940, test=0.923), total=   2.9s\n",
            "[CV] subsample=0.6, min_child_weight=1, max_depth=5, gamma=1.5, colsample_bytree=0.8 \n",
            "[CV]  subsample=0.6, min_child_weight=1, max_depth=5, gamma=1.5, colsample_bytree=0.8, score=(train=0.939, test=0.929), total=   2.9s\n",
            "[CV] subsample=1.0, min_child_weight=10, max_depth=5, gamma=5, colsample_bytree=0.6 \n",
            "[CV]  subsample=1.0, min_child_weight=10, max_depth=5, gamma=5, colsample_bytree=0.6, score=(train=0.932, test=0.930), total=   1.8s\n",
            "[CV] subsample=1.0, min_child_weight=10, max_depth=5, gamma=5, colsample_bytree=0.6 \n",
            "[CV]  subsample=1.0, min_child_weight=10, max_depth=5, gamma=5, colsample_bytree=0.6, score=(train=0.933, test=0.928), total=   1.8s\n",
            "[CV] subsample=1.0, min_child_weight=10, max_depth=5, gamma=5, colsample_bytree=0.6 \n",
            "[CV]  subsample=1.0, min_child_weight=10, max_depth=5, gamma=5, colsample_bytree=0.6, score=(train=0.934, test=0.922), total=   1.8s\n",
            "[CV] subsample=1.0, min_child_weight=10, max_depth=5, gamma=5, colsample_bytree=0.6 \n",
            "[CV]  subsample=1.0, min_child_weight=10, max_depth=5, gamma=5, colsample_bytree=0.6, score=(train=0.934, test=0.922), total=   1.8s\n",
            "[CV] subsample=1.0, min_child_weight=10, max_depth=5, gamma=5, colsample_bytree=0.6 \n",
            "[CV]  subsample=1.0, min_child_weight=10, max_depth=5, gamma=5, colsample_bytree=0.6, score=(train=0.933, test=0.929), total=   1.8s\n",
            "[CV] subsample=0.8, min_child_weight=1, max_depth=4, gamma=1, colsample_bytree=0.6 \n",
            "[CV]  subsample=0.8, min_child_weight=1, max_depth=4, gamma=1, colsample_bytree=0.6, score=(train=0.931, test=0.928), total=   1.8s\n",
            "[CV] subsample=0.8, min_child_weight=1, max_depth=4, gamma=1, colsample_bytree=0.6 \n",
            "[CV]  subsample=0.8, min_child_weight=1, max_depth=4, gamma=1, colsample_bytree=0.6, score=(train=0.932, test=0.927), total=   1.8s\n",
            "[CV] subsample=0.8, min_child_weight=1, max_depth=4, gamma=1, colsample_bytree=0.6 \n",
            "[CV]  subsample=0.8, min_child_weight=1, max_depth=4, gamma=1, colsample_bytree=0.6, score=(train=0.933, test=0.920), total=   1.8s\n",
            "[CV] subsample=0.8, min_child_weight=1, max_depth=4, gamma=1, colsample_bytree=0.6 \n",
            "[CV]  subsample=0.8, min_child_weight=1, max_depth=4, gamma=1, colsample_bytree=0.6, score=(train=0.932, test=0.920), total=   1.8s\n",
            "[CV] subsample=0.8, min_child_weight=1, max_depth=4, gamma=1, colsample_bytree=0.6 \n",
            "[CV]  subsample=0.8, min_child_weight=1, max_depth=4, gamma=1, colsample_bytree=0.6, score=(train=0.931, test=0.926), total=   1.8s\n"
          ],
          "name": "stdout"
        },
        {
          "output_type": "stream",
          "text": [
            "[Parallel(n_jobs=1)]: Done  25 out of  25 | elapsed:   57.4s finished\n"
          ],
          "name": "stderr"
        },
        {
          "output_type": "execute_result",
          "data": {
            "text/plain": [
              "RandomizedSearchCV(cv=5, error_score=nan,\n",
              "                   estimator=XGBClassifier(base_score=0.5, booster='gbtree',\n",
              "                                           colsample_bylevel=1,\n",
              "                                           colsample_bynode=1,\n",
              "                                           colsample_bytree=1, gamma=0,\n",
              "                                           learning_rate=0.1, max_delta_step=0,\n",
              "                                           max_depth=3, min_child_weight=1,\n",
              "                                           missing=None, n_estimators=100,\n",
              "                                           n_jobs=1, nthread=None,\n",
              "                                           objective='binary:logistic',\n",
              "                                           random_state=0, reg_alpha=0,\n",
              "                                           reg_lambda=1, sc...s_weight=1,\n",
              "                                           seed=None, silent=None, subsample=1,\n",
              "                                           verbosity=1),\n",
              "                   iid='deprecated', n_iter=5, n_jobs=1,\n",
              "                   param_distributions={'colsample_bytree': [0.6, 0.8, 1.0],\n",
              "                                        'gamma': [0.5, 1, 1.5, 2, 5],\n",
              "                                        'max_depth': [3, 4, 5],\n",
              "                                        'min_child_weight': [1, 5, 10],\n",
              "                                        'subsample': [0.6, 0.8, 1.0]},\n",
              "                   pre_dispatch='2*n_jobs', random_state=121, refit=True,\n",
              "                   return_train_score=True, scoring='roc_auc', verbose=3)"
            ]
          },
          "metadata": {
            "tags": []
          },
          "execution_count": 73
        }
      ]
    },
    {
      "cell_type": "code",
      "metadata": {
        "colab": {
          "base_uri": "https://localhost:8080/"
        },
        "id": "fajRKXVnpfRC",
        "outputId": "1661d3b2-6c80-49fe-af75-6af829394c8c"
      },
      "source": [
        "#best parameter \r\n",
        "random_cv.best_params_"
      ],
      "execution_count": 74,
      "outputs": [
        {
          "output_type": "execute_result",
          "data": {
            "text/plain": [
              "{'colsample_bytree': 0.8,\n",
              " 'gamma': 1.5,\n",
              " 'max_depth': 5,\n",
              " 'min_child_weight': 1,\n",
              " 'subsample': 0.6}"
            ]
          },
          "metadata": {
            "tags": []
          },
          "execution_count": 74
        }
      ]
    },
    {
      "cell_type": "code",
      "metadata": {
        "colab": {
          "base_uri": "https://localhost:8080/"
        },
        "id": "BhOosmYHvGo7",
        "outputId": "6c5153fb-731f-414f-cb2f-053e3b888908"
      },
      "source": [
        "clf = XGBClassifier(colsample_bytree= 0.8,\r\n",
        " gamma= 1.5,\r\n",
        " max_depth= 5,\r\n",
        " min_child_weigh= 1,\r\n",
        " subsample= 0.6)\r\n",
        "\r\n",
        "clf.fit(X_train, y_train)"
      ],
      "execution_count": 75,
      "outputs": [
        {
          "output_type": "execute_result",
          "data": {
            "text/plain": [
              "XGBClassifier(base_score=0.5, booster='gbtree', colsample_bylevel=1,\n",
              "              colsample_bynode=1, colsample_bytree=0.8, gamma=1.5,\n",
              "              learning_rate=0.1, max_delta_step=0, max_depth=5,\n",
              "              min_child_weigh=1, min_child_weight=1, missing=None,\n",
              "              n_estimators=100, n_jobs=1, nthread=None,\n",
              "              objective='binary:logistic', random_state=0, reg_alpha=0,\n",
              "              reg_lambda=1, scale_pos_weight=1, seed=None, silent=None,\n",
              "              subsample=0.6, verbosity=1)"
            ]
          },
          "metadata": {
            "tags": []
          },
          "execution_count": 75
        }
      ]
    },
    {
      "cell_type": "code",
      "metadata": {
        "colab": {
          "base_uri": "https://localhost:8080/"
        },
        "id": "sCH0oPhgNCDE",
        "outputId": "d643ba8a-f300-42ed-c2bd-7c911724dd9e"
      },
      "source": [
        "# score\r\n",
        "clf.score(X_train,y_train)"
      ],
      "execution_count": 85,
      "outputs": [
        {
          "output_type": "execute_result",
          "data": {
            "text/plain": [
              "0.8613205812028693"
            ]
          },
          "metadata": {
            "tags": []
          },
          "execution_count": 85
        }
      ]
    },
    {
      "cell_type": "code",
      "metadata": {
        "id": "41Tad5GZLtqs"
      },
      "source": [
        "import pickle\r\n",
        "file_name='job_change1.pickle'\r\n",
        "pickle.dump(clf,open(file_name,'wb'))"
      ],
      "execution_count": 76,
      "outputs": []
    }
  ]
}